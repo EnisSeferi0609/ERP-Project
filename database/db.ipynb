{
 "cells": [
  {
   "cell_type": "markdown",
   "id": "4ebbe610",
   "metadata": {},
   "source": [
    "# Verbindung zur Datenbank\n",
    "\n",
    "Dieses Skript initialisiert eine Verbindung zur SQLite-Datenbank\n",
    "und erstellt eine Session-Factory mithilfe von SQLAlchemy."
   ]
  },
  {
   "cell_type": "code",
   "execution_count": null,
   "id": "d2c53461",
   "metadata": {},
   "outputs": [],
   "source": [
    "\n",
    "from sqlalchemy import create_engine\n",
    "from sqlalchemy.ext.declarative import declarative_base\n",
    "from sqlalchemy.orm import sessionmaker, Session\n",
    "\n",
    "DATABASE_URL = \"sqlite:///./erp.db\"\n",
    "\n",
    "engine = create_engine(\n",
    "    DATABASE_URL,\n",
    "    connect_args={\"check_same_thread\": False}\n",
    ")\n",
    "\n",
    "\n",
    "SessionLocal = sessionmaker(\n",
    "    autocommit=False,\n",
    "    autoflush=False,\n",
    "    bind=engine\n",
    ")\n",
    "\n",
    "\n",
    "Base = declarative_base()\n",
    "\n",
    "\n",
    "def get_db():\n",
    "\n",
    "    db: Session = SessionLocal()\n",
    "    try:\n",
    "        yield db\n",
    "    finally:\n",
    "        db.close()"
   ]
  }
 ],
 "metadata": {
  "jupytext": {
   "cell_metadata_filter": "-all",
   "main_language": "python",
   "notebook_metadata_filter": "-all"
  }
 },
 "nbformat": 4,
 "nbformat_minor": 5
}
